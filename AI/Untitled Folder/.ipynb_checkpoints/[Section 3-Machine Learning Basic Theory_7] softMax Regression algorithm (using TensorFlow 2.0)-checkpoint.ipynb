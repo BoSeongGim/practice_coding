{
 "cells": [
  {
   "cell_type": "code",
   "execution_count": null,
   "id": "8fe523b7-a131-4b00-9a9d-b550c9622c9f",
   "metadata": {},
   "outputs": [],
   "source": [
    "#MNIST Number Classification example\n",
    "#using softMax Regression and tf.nn.sparse_softmax_cross_entropy_with_logits API"
   ]
  },
  {
   "cell_type": "code",
   "execution_count": null,
   "id": "b381b2a7-8d85-45c2-bd24-a0ebc4a0b4c8",
   "metadata": {},
   "outputs": [],
   "source": []
  },
  {
   "cell_type": "code",
   "execution_count": 8,
   "id": "113e9381-fd6f-4cc7-8005-708881e833bf",
   "metadata": {},
   "outputs": [
    {
     "ename": "NameError",
     "evalue": "name 'computer_accuracy' is not defined",
     "output_type": "error",
     "traceback": [
      "\u001b[0;31m---------------------------------------------------------------------------\u001b[0m",
      "\u001b[0;31mNameError\u001b[0m                                 Traceback (most recent call last)",
      "Cell \u001b[0;32mIn[8], line 79\u001b[0m\n\u001b[1;32m     76\u001b[0m     train_step(SoftmaxRegression_model, batch_xs, batch_ys)\n\u001b[1;32m     78\u001b[0m \u001b[38;5;66;03m# print accuracy when training end.\u001b[39;00m\n\u001b[0;32m---> 79\u001b[0m \u001b[38;5;28mprint\u001b[39m(\u001b[38;5;124m\"\u001b[39m\u001b[38;5;124mAccuracy : \u001b[39m\u001b[38;5;132;01m%f\u001b[39;00m\u001b[38;5;124m\"\u001b[39m \u001b[38;5;241m%\u001b[39m computer_accuracy(SoftmaxRegression_model(x_test), y_test) )\n",
      "\u001b[0;31mNameError\u001b[0m: name 'computer_accuracy' is not defined"
     ]
    }
   ],
   "source": [
    "import tensorflow as tf\n",
    "\n",
    "#download MNIST data.\n",
    "(x_train, y_train), (x_test, y_test) = tf.keras.datasets.mnist.load_data()\n",
    "\n",
    "#DataType change of image to float32\n",
    "x_train, x_test = x_train.astype('float32'), x_test.astype('float32')\n",
    "\n",
    "#image reshape 28*28 to 784\n",
    "x_train, x_test = x_train.reshape([-1, 784]), x_test.reshape([-1, 784])\n",
    "\n",
    "#Normalize [0, 255] to [0, 1]\n",
    "x_train, x_test = x_train / 255. , x_test / 255.\n",
    "\n",
    "#accept one-hot encoding to lable data.\n",
    "y_train, y_test = tf.one_hot(y_train, depth=10), tf.one_hot(y_test, depth=10)\n",
    "\n",
    "\n",
    "#data shuffle using tf.data API.\n",
    "#data save to batch type.\n",
    "train_data = tf.data.Dataset.from_tensor_slices((x_train, y_train))\n",
    "train_data = train_data.repeat().shuffle(60000).batch(100)\n",
    "train_data_iter = iter(train_data)\n",
    "\n",
    "#define Softmax Regression model.\n",
    "#(Using tf.keras.Model)\n",
    "class SoftmaxRegression(tf.keras.Model):\n",
    "    def __init__(self):\n",
    "        super(SoftmaxRegression, self).__init__()\n",
    "        self.softmax_layer = tf.keras.layers.Dense(10,\n",
    "                                                   activation = None,\n",
    "                                                   kernel_initializer='zeros',\n",
    "                                                   bias_initializer='zeros')\n",
    "\n",
    "    def call(self, x):\n",
    "        logits = self.softmax_layer(x)\n",
    "        return tf.nn.softmax(logits)\n",
    "\n",
    "\n",
    "#define loss function cross-enrtopy \n",
    "@tf.function\n",
    "def cross_entropy_loss(y_pred, y):\n",
    "    return tf.reduce_mean(-tf.reduce_sum(y * tf.math.log(y_pred), axis=[1] ))\n",
    "\n",
    "\n",
    "#define gradient descent optimize\n",
    "optimizer = tf.optimizers.SGD(0.5)\n",
    "\n",
    "\n",
    "#define function for train_step\n",
    "@tf.function\n",
    "def train_step(model, x, y):\n",
    "    with tf.GradientTape() as tape:\n",
    "        y_pred = model(x)\n",
    "        loss = cross_entropy_loss(y_pred, y)\n",
    "    gradients = tape.gradient(loss, model.trainable_variables)\n",
    "    optimizer.apply_gradients(zip(gradients, model.trainable_variables))\n",
    "\n",
    "\n",
    "#define function accuracy\n",
    "@tf.function\n",
    "def compute_accuracy(y_pred, y):\n",
    "    correct_prediction = tf.equal(tf.argmax(y_pred, 1), tf.argmax(y, 1))\n",
    "    accuracy = tf.reduce_mean(tf.cast(correct_prediction, tf.float32))\n",
    "\n",
    "    return accuracy\n",
    "\n",
    "\n",
    "#set SoftmaxRegression model\n",
    "SoftmaxRegression_model = SoftmaxRegression()\n",
    "\n",
    "\n",
    "#train 1000 reapt\n",
    "for i in range(1000):\n",
    "    batch_xs, batch_ys = next(train_data_iter)\n",
    "    train_step(SoftmaxRegression_model, batch_xs, batch_ys)\n",
    "\n",
    "# print accuracy when training end.\n",
    "print(\"Accuracy : %f\" % compute_accuracy(SoftmaxRegression_model(x_test), y_test) )\n"
   ]
  },
  {
   "cell_type": "code",
   "execution_count": null,
   "id": "f8cd3501-2c19-4217-ba02-ab189ab0c18e",
   "metadata": {},
   "outputs": [],
   "source": []
  }
 ],
 "metadata": {
  "kernelspec": {
   "display_name": "Python 3 (ipykernel)",
   "language": "python",
   "name": "python3"
  },
  "language_info": {
   "codemirror_mode": {
    "name": "ipython",
    "version": 3
   },
   "file_extension": ".py",
   "mimetype": "text/x-python",
   "name": "python",
   "nbconvert_exporter": "python",
   "pygments_lexer": "ipython3",
   "version": "3.11.5"
  }
 },
 "nbformat": 4,
 "nbformat_minor": 5
}
