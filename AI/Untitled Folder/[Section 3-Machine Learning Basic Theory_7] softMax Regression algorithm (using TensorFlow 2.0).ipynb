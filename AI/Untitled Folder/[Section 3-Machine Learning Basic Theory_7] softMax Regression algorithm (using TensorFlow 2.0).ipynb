{
 "cells": [
  {
   "cell_type": "code",
   "execution_count": 1,
   "id": "8fe523b7-a131-4b00-9a9d-b550c9622c9f",
   "metadata": {},
   "outputs": [],
   "source": [
    "#MNIST Number Classification example\n",
    "#using softMax Regression and tf.nn.sparse_softmax_cross_entropy_with_logits API"
   ]
  },
  {
   "cell_type": "code",
   "execution_count": 2,
   "id": "b381b2a7-8d85-45c2-bd24-a0ebc4a0b4c8",
   "metadata": {},
   "outputs": [
    {
     "name": "stderr",
     "output_type": "stream",
     "text": [
      "2023-11-29 23:57:58.995702: I tensorflow/core/platform/cpu_feature_guard.cc:182] This TensorFlow binary is optimized to use available CPU instructions in performance-critical operations.\n",
      "To enable the following instructions: AVX2 FMA, in other operations, rebuild TensorFlow with the appropriate compiler flags.\n"
     ]
    }
   ],
   "source": [
    "import tensorflow as tf\n",
    "\n",
    "#download MNIST data.\n",
    "(x_train, y_train), (x_test, y_test) = tf.keras.datasets.mnist.load_data()\n",
    "\n",
    "#DataType change of image to float32\n",
    "x_train, x_test = x_train.astype('float32'), x_test.astype('float32')\n",
    "\n",
    "#image reshape 28*28 to 784\n",
    "x_train, x_test = x_train.reshape([-1, 784]), x_test.reshape([-1, 784])\n",
    "\n",
    "#Normalize [0, 255] to [0, 1]\n",
    "x_train, x_test = x_train / 255. , x_test / 255.\n",
    "\n",
    "#accept one-hot encoding to lable data.\n",
    "y_train, y_test = tf.one_hot(y_train, depth=10), tf.one_hot(y_test, depth=10)\n",
    "\n",
    "\n",
    "#data shuffle using tf.data API.\n",
    "#data save to batch type.\n",
    "train_data = tf.data.Dataset.from_tensor_slices((x_train, y_train))\n",
    "train_data = train_data.repeat().shuffle(60000).batch(100)\n",
    "train_data_iter = iter(train_data)"
   ]
  },
  {
   "cell_type": "code",
   "execution_count": 3,
   "id": "c53eb8fc-6a63-4603-aacb-a1aefcc61833",
   "metadata": {},
   "outputs": [],
   "source": [
    "#define Softmax Regression model.\n",
    "#(Using tf.keras.Model)\n",
    "class SoftmaxRegression(tf.keras.Model):\n",
    "    def __init__(self):\n",
    "        super(SoftmaxRegression, self).__init__()\n",
    "        self.softmax_layer = tf.keras.layers.Dense(10,\n",
    "                                                   activation = None,\n",
    "                                                   kernel_initializer='zeros',\n",
    "                                                   bias_initializer='zeros')\n",
    "\n",
    "    def call(self, x):\n",
    "        logits = self.softmax_layer(x)\n",
    "        return tf.nn.softmax(logits)"
   ]
  },
  {
   "cell_type": "code",
   "execution_count": 4,
   "id": "2439d523-2b4e-4998-8020-6103c0b6221e",
   "metadata": {},
   "outputs": [],
   "source": [
    "#define loss function cross-enrtopy \n",
    "@tf.function\n",
    "def cross_entropy_loss(y_pred, y):\n",
    "    return tf.reduce_mean(-tf.reduce_sum(y * tf.math.log(y_pred), axis=[1] ))\n"
   ]
  },
  {
   "cell_type": "code",
   "execution_count": 5,
   "id": "6d1b4a4b-a481-4e46-91ec-e0ce0dc1e787",
   "metadata": {},
   "outputs": [],
   "source": [
    "#define gradient descent optimize\n",
    "optimizer = tf.optimizers.SGD(0.5)"
   ]
  },
  {
   "cell_type": "code",
   "execution_count": 6,
   "id": "13526bdf-eda9-4f58-a18f-999838c8a1d8",
   "metadata": {},
   "outputs": [],
   "source": [
    "#define function for train_step\n",
    "@tf.function\n",
    "def train_step(model, x, y):\n",
    "    with tf.GradientTape() as tape:\n",
    "        y_pred = model(x)\n",
    "        loss = cross_entropy_loss(y_pred, y)\n",
    "    gradients = tape.gradient(loss, model.trainable_variables)\n",
    "    optimizer.apply_gradients(zip(gradients, model.trainable_variables))"
   ]
  },
  {
   "cell_type": "code",
   "execution_count": 7,
   "id": "1d8998ac-e6ea-4466-bfbb-9a92aeab5750",
   "metadata": {},
   "outputs": [],
   "source": [
    "#define function accuracy\n",
    "@tf.function\n",
    "def compute_accuracy(y_pred, y):\n",
    "    correct_prediction = tf.equal(tf.argmax(y_pred, 1), tf.argmax(y, 1))\n",
    "    accuracy = tf.reduce_mean(tf.cast(correct_prediction, tf.float32))\n",
    "\n",
    "    return accuracy"
   ]
  },
  {
   "cell_type": "code",
   "execution_count": 8,
   "id": "8fbe2ed3-a7b9-4a03-a427-583b0d183f35",
   "metadata": {},
   "outputs": [],
   "source": [
    "#set SoftmaxRegression model\n",
    "SoftmaxRegression_model = SoftmaxRegression()"
   ]
  },
  {
   "cell_type": "code",
   "execution_count": 9,
   "id": "a9da047f-894c-4318-89fb-984a983c2ccd",
   "metadata": {},
   "outputs": [
    {
     "name": "stdout",
     "output_type": "stream",
     "text": [
      "Accuracy : 0.917800\n"
     ]
    }
   ],
   "source": [
    "#train 1000 reapt\n",
    "for i in range(1000):\n",
    "    batch_xs, batch_ys = next(train_data_iter)\n",
    "    train_step(SoftmaxRegression_model, batch_xs, batch_ys)\n",
    "\n",
    "\n",
    "# print accuracy when training end.\n",
    "print(\"Accuracy : %f\" % compute_accuracy(SoftmaxRegression_model(x_test), y_test) )"
   ]
  },
  {
   "cell_type": "code",
   "execution_count": 10,
   "id": "113e9381-fd6f-4cc7-8005-708881e833bf",
   "metadata": {},
   "outputs": [],
   "source": [
    "#import tensorflow as tf\n",
    "\n",
    "#download MNIST data.\n",
    "#(x_train, y_train), (x_test, y_test) = tf.keras.datasets.mnist.load_data()\n",
    "\n",
    "#DataType change of image to float32\n",
    "#x_train, x_test = x_train.astype('float32'), x_test.astype('float32')\n",
    "\n",
    "#image reshape 28*28 to 784\n",
    "#x_train, x_test = x_train.reshape([-1, 784]), x_test.reshape([-1, 784])\n",
    "\n",
    "#Normalize [0, 255] to [0, 1]\n",
    "#x_train, x_test = x_train / 255. , x_test / 255.\n",
    "\n",
    "#accept one-hot encoding to lable data.\n",
    "#y_train, y_test = tf.one_hot(y_train, depth=10), tf.one_hot(y_test, depth=10)\n",
    "\n",
    "\n",
    "#data shuffle using tf.data API.\n",
    "#data save to batch type.\n",
    "#train_data = tf.data.Dataset.from_tensor_slices((x_train, y_train))\n",
    "#train_data = train_data.repeat().shuffle(60000).batch(100)\n",
    "#train_data_iter = iter(train_data)\n",
    "\n",
    "#define Softmax Regression model.\n",
    "#(Using tf.keras.Model)\n",
    "#class SoftmaxRegression(tf.keras.Model):\n",
    "#    def __init__(self):\n",
    "#        super(SoftmaxRegression, self).__init__()\n",
    "#        self.softmax_layer = tf.keras.layers.Dense(10,\n",
    "#                                                   activation = None,\n",
    "#                                                   kernel_initializer='zeros',\n",
    "#                                                   bias_initializer='zeros')\n",
    "\n",
    "#    def call(self, x):\n",
    "#        logits = self.softmax_layer(x)\n",
    "#        return tf.nn.softmax(logits)\n",
    "\n",
    "\n",
    "#define loss function cross-enrtopy \n",
    "#@tf.function\n",
    "#def cross_entropy_loss(y_pred, y):\n",
    "#    return tf.reduce_mean(-tf.reduce_sum(y * tf.math.log(y_pred), axis=[1] ))\n",
    "\n",
    "\n",
    "#define gradient descent optimize\n",
    "#optimizer = tf.optimizers.SGD(0.5)\n",
    "\n",
    "\n",
    "#define function for train_step\n",
    "#@tf.function\n",
    "#def train_step(model, x, y):\n",
    "#    with tf.GradientTape() as tape:\n",
    "#        y_pred = model(x)\n",
    "#        loss = cross_entropy_loss(y_pred, y)\n",
    "#    gradients = tape.gradient(loss, model.trainable_variables)\n",
    "#    optimizer.apply_gradients(zip(gradients, model.trainable_variables))\n",
    "\n",
    "\n",
    "#define function accuracy\n",
    "#@tf.function\n",
    "#def compute_accuracy(y_pred, y):\n",
    "#    correct_prediction = tf.equal(tf.argmax(y_pred, 1), tf.argmax(y, 1))\n",
    "#    accuracy = tf.reduce_mean(tf.cast(correct_prediction, tf.float32))\n",
    "\n",
    "#    return accuracy\n",
    "\n",
    "\n",
    "#set SoftmaxRegression model\n",
    "#SoftmaxRegression_model = SoftmaxRegression()\n",
    "\n",
    "\n",
    "#train 1000 reapt\n",
    "#for i in range(1000):\n",
    "#    batch_xs, batch_ys = next(train_data_iter)\n",
    "#    train_step(SoftmaxRegression_model, batch_xs, batch_ys)\n",
    "\n",
    "# print accuracy when training end.\n",
    "#print(\"Accuracy : %f\" % compute_accuracy(SoftmaxRegression_model(x_test), y_test) )\n"
   ]
  }
 ],
 "metadata": {
  "kernelspec": {
   "display_name": "Python 3 (ipykernel)",
   "language": "python",
   "name": "python3"
  },
  "language_info": {
   "codemirror_mode": {
    "name": "ipython",
    "version": 3
   },
   "file_extension": ".py",
   "mimetype": "text/x-python",
   "name": "python",
   "nbconvert_exporter": "python",
   "pygments_lexer": "ipython3",
   "version": "3.11.5"
  }
 },
 "nbformat": 4,
 "nbformat_minor": 5
}
