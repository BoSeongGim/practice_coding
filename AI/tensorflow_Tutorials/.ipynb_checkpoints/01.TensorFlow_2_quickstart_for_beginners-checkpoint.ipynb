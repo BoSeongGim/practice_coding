{
 "cells": [
  {
   "cell_type": "code",
   "execution_count": 1,
   "id": "7d36ba1b-7f4a-428f-8d42-c7dfc1612588",
   "metadata": {
    "tags": []
   },
   "outputs": [],
   "source": [
    "#TensorFlow 2 quickstart for beginners\n",
    "#https://www.tensorflow.org/tutorials/quickstart/beginner?hl=ko"
   ]
  },
  {
   "cell_type": "code",
   "execution_count": 2,
   "id": "4ef15248-ca3d-4be3-99b3-77fbc019a3c9",
   "metadata": {},
   "outputs": [
    {
     "name": "stderr",
     "output_type": "stream",
     "text": [
      "2023-11-23 22:44:58.692230: I tensorflow/core/platform/cpu_feature_guard.cc:182] This TensorFlow binary is optimized to use available CPU instructions in performance-critical operations.\n",
      "To enable the following instructions: AVX2 FMA, in other operations, rebuild TensorFlow with the appropriate compiler flags.\n"
     ]
    },
    {
     "name": "stdout",
     "output_type": "stream",
     "text": [
      "TensorFlow version: 2.15.0\n"
     ]
    }
   ],
   "source": [
    "#1.Set up TensorFlow\n",
    "import tensorflow as tf\n",
    "print(\"TensorFlow version:\", tf.__version__)\n",
    "#TensorFlow version: 2.15.0(2023/11/23)"
   ]
  },
  {
   "cell_type": "code",
   "execution_count": 3,
   "id": "1d4dfe20-02d4-4166-a486-ea09a6c79ca2",
   "metadata": {
    "tags": []
   },
   "outputs": [],
   "source": [
    "#2.Load a dataset\n",
    "mnist = tf.keras.datasets.mnist\n",
    "\n",
    "(x_train, y_train), (x_test, y_test) = mnist.load_data()\n",
    "x_train, x_test = x_train / 255.0, x_test / 255.0"
   ]
  },
  {
   "cell_type": "code",
   "execution_count": 4,
   "id": "ed430e69-5fac-4a75-8475-5a81f1f2f18f",
   "metadata": {
    "tags": []
   },
   "outputs": [],
   "source": [
    "#3.Build a machine learning model\n",
    "model = tf.keras.models.Sequential([\n",
    "  tf.keras.layers.Flatten(input_shape=(28, 28)),\n",
    "  tf.keras.layers.Dense(128, activation='relu'),\n",
    "  tf.keras.layers.Dropout(0.2),\n",
    "  tf.keras.layers.Dense(10, activation='softmax')\n",
    "])"
   ]
  },
  {
   "cell_type": "code",
   "execution_count": 5,
   "id": "21459307-a86e-484d-a5e4-ae75eb2491e5",
   "metadata": {
    "tags": []
   },
   "outputs": [
    {
     "data": {
      "text/plain": [
       "array([[0.11510668, 0.09475838, 0.10111266, 0.1135206 , 0.07525302,\n",
       "        0.0967068 , 0.15759553, 0.04890257, 0.08796301, 0.10908069]],\n",
       "      dtype=float32)"
      ]
     },
     "execution_count": 5,
     "metadata": {},
     "output_type": "execute_result"
    }
   ],
   "source": [
    "predictions = model(x_train[:1]).numpy()\n",
    "predictions\n",
    "#array([[0.10380463, 0.17851155, 0.04375898, 0.0749632 , 0.0847944 ,\n",
    "#        0.0908537 , 0.04523795, 0.2925539 , 0.05846447, 0.02705724]],\n",
    "#      dtype=float32)"
   ]
  },
  {
   "cell_type": "code",
   "execution_count": 6,
   "id": "df401a1e-db9a-4b89-aeec-7dc87fae1e03",
   "metadata": {
    "tags": []
   },
   "outputs": [
    {
     "data": {
      "text/plain": [
       "array([[0.10148542, 0.09944124, 0.10007513, 0.10132459, 0.0975204 ,\n",
       "        0.09963518, 0.10589034, 0.09498425, 0.09876779, 0.10087571]],\n",
       "      dtype=float32)"
      ]
     },
     "execution_count": 6,
     "metadata": {},
     "output_type": "execute_result"
    }
   ],
   "source": [
    "tf.nn.softmax(predictions).numpy()\n",
    "#array([[0.10148542, 0.09944124, 0.10007513, 0.10132459, 0.0975204 ,\n",
    "#        0.09963518, 0.10589034, 0.09498425, 0.09876779, 0.10087571]],\n",
    "#      dtype=float32)"
   ]
  },
  {
   "cell_type": "code",
   "execution_count": 7,
   "id": "e1e5caaa-5e2a-459c-a585-21c0e07fb86c",
   "metadata": {
    "tags": []
   },
   "outputs": [],
   "source": [
    "loss_fn = tf.keras.losses.SparseCategoricalCrossentropy(from_logits=True)"
   ]
  },
  {
   "cell_type": "code",
   "execution_count": 8,
   "id": "dab86d5e-514d-4051-8832-bde8ea241d81",
   "metadata": {
    "tags": []
   },
   "outputs": [
    {
     "data": {
      "text/plain": [
       "2.30624"
      ]
     },
     "execution_count": 8,
     "metadata": {},
     "output_type": "execute_result"
    }
   ],
   "source": [
    "loss_fn(y_train[:1], predictions).numpy()\n",
    "#2.30624"
   ]
  },
  {
   "cell_type": "code",
   "execution_count": 9,
   "id": "70be14b2-8fe8-46f1-a454-aa5ebbecf7fa",
   "metadata": {},
   "outputs": [],
   "source": [
    "model.compile(optimizer='adam',\n",
    "              loss=loss_fn,\n",
    "              metrics=['accuracy'])"
   ]
  },
  {
   "cell_type": "code",
   "execution_count": 10,
   "id": "97dda2e8-0898-4652-b568-2164dfcee2e7",
   "metadata": {},
   "outputs": [
    {
     "name": "stdout",
     "output_type": "stream",
     "text": [
      "Epoch 1/5\n"
     ]
    },
    {
     "name": "stderr",
     "output_type": "stream",
     "text": [
      "/Users/gimboseong/anaconda3/lib/python3.11/site-packages/keras/src/backend.py:5727: UserWarning: \"`sparse_categorical_crossentropy` received `from_logits=True`, but the `output` argument was produced by a Softmax activation and thus does not represent logits. Was this intended?\n",
      "  output, from_logits = _get_logits(\n"
     ]
    },
    {
     "name": "stdout",
     "output_type": "stream",
     "text": [
      "1875/1875 [==============================] - 10s 5ms/step - loss: 0.3025 - accuracy: 0.9125\n",
      "Epoch 2/5\n",
      "1875/1875 [==============================] - 9s 5ms/step - loss: 0.1454 - accuracy: 0.9566\n",
      "Epoch 3/5\n",
      "1875/1875 [==============================] - 10s 6ms/step - loss: 0.1112 - accuracy: 0.9658\n",
      "Epoch 4/5\n",
      "1875/1875 [==============================] - 9s 5ms/step - loss: 0.0905 - accuracy: 0.9719\n",
      "Epoch 5/5\n",
      "1875/1875 [==============================] - 9s 5ms/step - loss: 0.0776 - accuracy: 0.9754\n"
     ]
    },
    {
     "data": {
      "text/plain": [
       "<keras.src.callbacks.History at 0x137c16990>"
      ]
     },
     "execution_count": 10,
     "metadata": {},
     "output_type": "execute_result"
    }
   ],
   "source": [
    "#4.Train and evaluate your model\n",
    "model.fit(x_train, y_train, epochs=5)"
   ]
  },
  {
   "cell_type": "code",
   "execution_count": 11,
   "id": "986175d0-1068-4911-808d-c8e947670f82",
   "metadata": {},
   "outputs": [
    {
     "name": "stdout",
     "output_type": "stream",
     "text": [
      "313/313 - 1s - loss: 0.0807 - accuracy: 0.9768 - 713ms/epoch - 2ms/step\n"
     ]
    },
    {
     "data": {
      "text/plain": [
       "[0.08069831877946854, 0.9768000245094299]"
      ]
     },
     "execution_count": 11,
     "metadata": {},
     "output_type": "execute_result"
    }
   ],
   "source": [
    "model.evaluate(x_test,  y_test, verbose=2)"
   ]
  },
  {
   "cell_type": "code",
   "execution_count": 12,
   "id": "903ea7a5-a496-47bf-83ea-137614f13be1",
   "metadata": {},
   "outputs": [],
   "source": [
    "probability_model = tf.keras.Sequential([\n",
    "  model,\n",
    "  tf.keras.layers.Softmax()\n",
    "])"
   ]
  },
  {
   "cell_type": "code",
   "execution_count": 13,
   "id": "343eeb9e-e50b-4da6-862c-dce867ec0d07",
   "metadata": {
    "tags": []
   },
   "outputs": [
    {
     "data": {
      "text/plain": [
       "<tf.Tensor: shape=(5, 10), dtype=float32, numpy=\n",
       "array([[0.0853375 , 0.0853374 , 0.08533744, 0.08534157, 0.0853374 ,\n",
       "        0.08533742, 0.0853374 , 0.23195896, 0.08533741, 0.08533752],\n",
       "       [0.08533703, 0.08533892, 0.23196459, 0.08533715, 0.08533703,\n",
       "        0.08533703, 0.08533703, 0.08533703, 0.08533704, 0.08533703],\n",
       "       [0.08535117, 0.23174106, 0.08535622, 0.08535187, 0.08535473,\n",
       "        0.085353  , 0.08535146, 0.08542296, 0.08536628, 0.08535125],\n",
       "       [0.23196596, 0.08533695, 0.08533716, 0.08533695, 0.08533696,\n",
       "        0.08533698, 0.08533753, 0.08533731, 0.08533695, 0.08533721],\n",
       "       [0.08540803, 0.08540749, 0.08540944, 0.0854075 , 0.23084588,\n",
       "        0.08540752, 0.0854075 , 0.08542027, 0.08540756, 0.0858788 ]],\n",
       "      dtype=float32)>"
      ]
     },
     "execution_count": 13,
     "metadata": {},
     "output_type": "execute_result"
    }
   ],
   "source": [
    "probability_model(x_test[:5])"
   ]
  }
 ],
 "metadata": {
  "kernelspec": {
   "display_name": "Python 3 (ipykernel)",
   "language": "python",
   "name": "python3"
  },
  "language_info": {
   "codemirror_mode": {
    "name": "ipython",
    "version": 3
   },
   "file_extension": ".py",
   "mimetype": "text/x-python",
   "name": "python",
   "nbconvert_exporter": "python",
   "pygments_lexer": "ipython3",
   "version": "3.11.5"
  }
 },
 "nbformat": 4,
 "nbformat_minor": 5
}
